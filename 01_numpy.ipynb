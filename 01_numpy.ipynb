{
  "cells": [
    {
      "cell_type": "markdown",
      "metadata": {
        "colab_type": "text",
        "id": "view-in-github"
      },
      "source": [
        "<a href=\"https://colab.research.google.com/github/mehta-aditya13191/Machine-Learning/blob/main/01_numpy.ipynb\" target=\"_parent\"><img src=\"https://colab.research.google.com/assets/colab-badge.svg\" alt=\"Open In Colab\"/></a>"
      ]
    },
    {
      "cell_type": "markdown",
      "metadata": {
        "id": "zzbzvbTq4aGT"
      },
      "source": [
        "# numpy->Numerical python\n",
        "\n",
        "# AdvanTages\n",
        "  1.Allow several Mathematical operations\n",
        "  2.Faster operations"
      ]
    },
    {
      "cell_type": "code",
      "execution_count": 1,
      "metadata": {
        "id": "TkaLvdAOnsoV"
      },
      "outputs": [
        {
          "ename": "ModuleNotFoundError",
          "evalue": "No module named 'numpy'",
          "output_type": "error",
          "traceback": [
            "\u001b[1;31m---------------------------------------------------------------------------\u001b[0m",
            "\u001b[1;31mModuleNotFoundError\u001b[0m                       Traceback (most recent call last)",
            "Cell \u001b[1;32mIn[1], line 1\u001b[0m\n\u001b[1;32m----> 1\u001b[0m \u001b[38;5;28;01mimport\u001b[39;00m \u001b[38;5;21;01mnumpy\u001b[39;00m \u001b[38;5;28;01mas\u001b[39;00m \u001b[38;5;21;01mnp\u001b[39;00m\n",
            "\u001b[1;31mModuleNotFoundError\u001b[0m: No module named 'numpy'"
          ]
        }
      ],
      "source": [
        "import numpy as np\n"
      ]
    },
    {
      "cell_type": "markdown",
      "metadata": {
        "id": "W0iXt27s5KGq"
      },
      "source": [
        "List vs Numpy->Time Taken"
      ]
    },
    {
      "cell_type": "code",
      "execution_count": null,
      "metadata": {
        "id": "lq46dlJP4vGY"
      },
      "outputs": [],
      "source": [
        "from time import process_time"
      ]
    },
    {
      "cell_type": "markdown",
      "metadata": {
        "id": "DJdnwH7s5UC6"
      },
      "source": [
        "Time taken by a list\n"
      ]
    },
    {
      "cell_type": "code",
      "execution_count": null,
      "metadata": {
        "colab": {
          "base_uri": "https://localhost:8080/"
        },
        "id": "dmfCTGa05XUY",
        "outputId": "65339f74-5609-4966-acd9-f2fc4c2295f2"
      },
      "outputs": [
        {
          "name": "stdout",
          "output_type": "stream",
          "text": [
            "total Time Taken:  0.0008631410000017326\n"
          ]
        }
      ],
      "source": [
        "List=[i for i in range(10000)]\n",
        "start_time=process_time()\n",
        "\n",
        "List=[i+5 for i in List]\n",
        "\n",
        "end_time=process_time()\n",
        "\n",
        "print(\"total Time Taken: \",end_time-start_time)"
      ]
    },
    {
      "cell_type": "code",
      "execution_count": null,
      "metadata": {
        "colab": {
          "base_uri": "https://localhost:8080/"
        },
        "id": "7MgD0BrM5t_b",
        "outputId": "6de85be9-ee78-4b4a-b675-d8708e98faa6"
      },
      "outputs": [
        {
          "name": "stdout",
          "output_type": "stream",
          "text": [
            "total Time Taken:  0.00019594299999958764\n"
          ]
        }
      ],
      "source": [
        "np_array=np.array([i for i in range(10000)])\n",
        "start_time=process_time()\n",
        "np_array+=5\n",
        "end_time=process_time()\n",
        "print(\"total Time Taken: \",end_time-start_time)\n"
      ]
    },
    {
      "cell_type": "markdown",
      "metadata": {
        "id": "enIJTM5Z68Te"
      },
      "source": [
        "Numpy Arrays"
      ]
    },
    {
      "cell_type": "code",
      "execution_count": null,
      "metadata": {
        "colab": {
          "base_uri": "https://localhost:8080/"
        },
        "id": "g5R8ZTlF6MgY",
        "outputId": "bdf06dec-1f8b-401d-8c4f-a0c623517fa0"
      },
      "outputs": [
        {
          "name": "stdout",
          "output_type": "stream",
          "text": [
            "[1, 2, 3, 4, 5]\n"
          ]
        },
        {
          "data": {
            "text/plain": [
              "list"
            ]
          },
          "execution_count": 12,
          "metadata": {},
          "output_type": "execute_result"
        }
      ],
      "source": [
        "# list\n",
        "list1=[1,2,3,4,5]\n",
        "print(list1)\n",
        "type(list1)"
      ]
    },
    {
      "cell_type": "code",
      "execution_count": null,
      "metadata": {
        "colab": {
          "base_uri": "https://localhost:8080/"
        },
        "id": "iDRezb657JNV",
        "outputId": "9d9ea362-0e07-4309-a2b3-239febfb884f"
      },
      "outputs": [
        {
          "name": "stdout",
          "output_type": "stream",
          "text": [
            "[1 2 3 4 5]\n"
          ]
        },
        {
          "data": {
            "text/plain": [
              "numpy.ndarray"
            ]
          },
          "execution_count": 13,
          "metadata": {},
          "output_type": "execute_result"
        }
      ],
      "source": [
        "np_array=np.array([1,2,3,4,5])\n",
        "print(np_array)\n",
        "type(np_array)"
      ]
    },
    {
      "cell_type": "code",
      "execution_count": null,
      "metadata": {
        "colab": {
          "base_uri": "https://localhost:8080/"
        },
        "id": "5gynQKNZ7TSz",
        "outputId": "2e5701a0-c847-49a8-8137-f96b71d91797"
      },
      "outputs": [
        {
          "name": "stdout",
          "output_type": "stream",
          "text": [
            "[1 2 3 4]\n"
          ]
        }
      ],
      "source": [
        "# creating 1 dim array\n",
        "a=np.array([1,2,3,4])\n",
        "print(a)"
      ]
    },
    {
      "cell_type": "code",
      "execution_count": null,
      "metadata": {
        "colab": {
          "base_uri": "https://localhost:8080/"
        },
        "id": "ZZooM1kV7jf2",
        "outputId": "06dfd920-4a47-41e7-eef1-d27b75a3d509"
      },
      "outputs": [
        {
          "data": {
            "text/plain": [
              "(4,)"
            ]
          },
          "execution_count": 16,
          "metadata": {},
          "output_type": "execute_result"
        }
      ],
      "source": [
        "a.shape"
      ]
    },
    {
      "cell_type": "code",
      "execution_count": null,
      "metadata": {
        "colab": {
          "base_uri": "https://localhost:8080/"
        },
        "id": "ufyAN-KJ7wcS",
        "outputId": "43e29ffa-cf28-405e-a1aa-750a25fceeff"
      },
      "outputs": [
        {
          "name": "stdout",
          "output_type": "stream",
          "text": [
            "[[1 2 3 4]\n",
            " [5 6 7 8]]\n",
            "(2, 4)\n"
          ]
        }
      ],
      "source": [
        "b=np.array([(1,2,3,4),(5,6,7,8)])\n",
        "print(b)\n",
        "print(b.shape)"
      ]
    },
    {
      "cell_type": "code",
      "execution_count": null,
      "metadata": {
        "colab": {
          "base_uri": "https://localhost:8080/"
        },
        "id": "BRtpD2T474hw",
        "outputId": "45c18245-0be7-4d35-e5fd-9a6de12b5af3"
      },
      "outputs": [
        {
          "name": "stdout",
          "output_type": "stream",
          "text": [
            "[[1. 2. 3. 4.]\n",
            " [5. 6. 7. 8.]]\n"
          ]
        }
      ],
      "source": [
        "b=np.array([(1,2,3,4),(5,6,7,8)],dtype=float)\n",
        "print(b)\n"
      ]
    },
    {
      "cell_type": "markdown",
      "metadata": {
        "id": "fd3srMv38-qM"
      },
      "source": [
        "Intial placeholder in numpy arrays"
      ]
    },
    {
      "cell_type": "code",
      "execution_count": null,
      "metadata": {
        "colab": {
          "base_uri": "https://localhost:8080/"
        },
        "id": "ROe_ZwV48Scx",
        "outputId": "13174207-bad3-4436-efdf-31ebd5a3b0e9"
      },
      "outputs": [
        {
          "data": {
            "text/plain": [
              "array([[0., 0., 0., 0., 0.],\n",
              "       [0., 0., 0., 0., 0.],\n",
              "       [0., 0., 0., 0., 0.],\n",
              "       [0., 0., 0., 0., 0.]])"
            ]
          },
          "execution_count": 20,
          "metadata": {},
          "output_type": "execute_result"
        }
      ],
      "source": [
        "# create a numpy array of zeros\n",
        "x=np.zeros((4,5))\n",
        "x"
      ]
    },
    {
      "cell_type": "code",
      "execution_count": null,
      "metadata": {
        "colab": {
          "base_uri": "https://localhost:8080/"
        },
        "id": "3seWpc119K9Q",
        "outputId": "d2dca7bb-b60c-44ce-b4b4-d9a7ea9cf0ad"
      },
      "outputs": [
        {
          "data": {
            "text/plain": [
              "array([[1., 1., 1.],\n",
              "       [1., 1., 1.],\n",
              "       [1., 1., 1.]])"
            ]
          },
          "execution_count": 21,
          "metadata": {},
          "output_type": "execute_result"
        }
      ],
      "source": [
        "# create a numpy array of ones\n",
        "y=np.ones((3,3))\n",
        "y\n"
      ]
    },
    {
      "cell_type": "code",
      "execution_count": null,
      "metadata": {
        "colab": {
          "base_uri": "https://localhost:8080/"
        },
        "id": "DXgsR5bK9Tj8",
        "outputId": "fde6d016-aced-40ac-9c04-1150ff59620b"
      },
      "outputs": [
        {
          "data": {
            "text/plain": [
              "array([[5, 5, 5, 5],\n",
              "       [5, 5, 5, 5],\n",
              "       [5, 5, 5, 5],\n",
              "       [5, 5, 5, 5],\n",
              "       [5, 5, 5, 5]])"
            ]
          },
          "execution_count": 22,
          "metadata": {},
          "output_type": "execute_result"
        }
      ],
      "source": [
        "# array of a particular value\n",
        "z=np.full((5,4),5)\n",
        "z"
      ]
    },
    {
      "cell_type": "code",
      "execution_count": null,
      "metadata": {
        "colab": {
          "base_uri": "https://localhost:8080/"
        },
        "id": "Mo11PW1w9cIB",
        "outputId": "fda12c36-3459-4ba0-8223-d837340c3585"
      },
      "outputs": [
        {
          "data": {
            "text/plain": [
              "array([[1., 0., 0., 0.],\n",
              "       [0., 1., 0., 0.],\n",
              "       [0., 0., 1., 0.],\n",
              "       [0., 0., 0., 1.]])"
            ]
          },
          "execution_count": 24,
          "metadata": {},
          "output_type": "execute_result"
        }
      ],
      "source": [
        "# creating an identity matrix\n",
        "I=np.eye(4)\n",
        "I"
      ]
    },
    {
      "cell_type": "code",
      "execution_count": null,
      "metadata": {
        "colab": {
          "base_uri": "https://localhost:8080/"
        },
        "id": "I0K5Shvs9roH",
        "outputId": "54d887ac-de13-4384-ca9f-d6e1539e05ec"
      },
      "outputs": [
        {
          "data": {
            "text/plain": [
              "array([[0.93157497, 0.90350193, 0.73755079, 0.30344015],\n",
              "       [0.61418627, 0.35175644, 0.8072261 , 0.01766638],\n",
              "       [0.35409225, 0.65980974, 0.82362207, 0.91190695]])"
            ]
          },
          "execution_count": 25,
          "metadata": {},
          "output_type": "execute_result"
        }
      ],
      "source": [
        "# create a numpy array with random values\n",
        "b=np.random.random((3,4))\n",
        "b"
      ]
    },
    {
      "cell_type": "code",
      "execution_count": null,
      "metadata": {
        "colab": {
          "base_uri": "https://localhost:8080/"
        },
        "id": "ZhVl8xnR979R",
        "outputId": "7566ac5e-6234-4dfb-ab6a-e60213ddb9a6"
      },
      "outputs": [
        {
          "data": {
            "text/plain": [
              "array([[96, 91, 54, 52, 31],\n",
              "       [77, 71, 43, 94, 50],\n",
              "       [18, 83, 66, 34, 59]])"
            ]
          },
          "execution_count": 26,
          "metadata": {},
          "output_type": "execute_result"
        }
      ],
      "source": [
        "# random integer values array  within a specific range\n",
        "c=np.random.randint(10,100,(3,5))\n",
        "c"
      ]
    },
    {
      "cell_type": "code",
      "execution_count": null,
      "metadata": {
        "colab": {
          "base_uri": "https://localhost:8080/"
        },
        "id": "YUxbPBu_-NRU",
        "outputId": "7e1aae4c-4829-404d-8cfb-7a88be444c2f"
      },
      "outputs": [
        {
          "data": {
            "text/plain": [
              "array([10., 14., 18., 22., 26., 30.])"
            ]
          },
          "execution_count": 30,
          "metadata": {},
          "output_type": "execute_result"
        }
      ],
      "source": [
        "#  array of evenly spaced values -->specifying the number of values required\n",
        "d=np.linspace(10,30,6)\n",
        "d"
      ]
    },
    {
      "cell_type": "code",
      "execution_count": null,
      "metadata": {
        "colab": {
          "base_uri": "https://localhost:8080/"
        },
        "id": "kuEWbrTV-aDE",
        "outputId": "f48720e8-8faa-4768-ae01-0ffb29388f08"
      },
      "outputs": [
        {
          "data": {
            "text/plain": [
              "array([10, 16, 22, 28])"
            ]
          },
          "execution_count": 31,
          "metadata": {},
          "output_type": "execute_result"
        }
      ],
      "source": [
        "# array of evenly spaced values --> specifying the steps\n",
        "e=np.arange(10,30,6)\n",
        "e"
      ]
    },
    {
      "cell_type": "code",
      "execution_count": null,
      "metadata": {
        "colab": {
          "base_uri": "https://localhost:8080/"
        },
        "id": "YfSsrpE0-whf",
        "outputId": "9b05c3b3-4c57-467d-f309-12597c7c6129"
      },
      "outputs": [
        {
          "name": "stdout",
          "output_type": "stream",
          "text": [
            "[10 20 40 50]\n"
          ]
        },
        {
          "data": {
            "text/plain": [
              "numpy.ndarray"
            ]
          },
          "execution_count": 32,
          "metadata": {},
          "output_type": "execute_result"
        }
      ],
      "source": [
        "#  convert a list to numpy array\n",
        "list2=[10,20,40,50]\n",
        "\n",
        "np_array=np.asarray(list2)\n",
        "print(np_array)\n",
        "type(np_array)"
      ]
    },
    {
      "cell_type": "markdown",
      "metadata": {
        "id": "TL1vE6TM_Z0X"
      },
      "source": [
        "Analysing a numpy array"
      ]
    },
    {
      "cell_type": "code",
      "execution_count": null,
      "metadata": {
        "colab": {
          "base_uri": "https://localhost:8080/"
        },
        "id": "pQLT6N48_R2X",
        "outputId": "51e761b0-b24f-447f-9334-f996a8d69494"
      },
      "outputs": [
        {
          "data": {
            "text/plain": [
              "array([[20, 52, 76, 53, 35],\n",
              "       [50, 84, 87, 24, 79],\n",
              "       [60, 65, 64, 41, 29],\n",
              "       [59, 31, 68, 60, 16],\n",
              "       [73, 77, 13, 51, 61]])"
            ]
          },
          "execution_count": 33,
          "metadata": {},
          "output_type": "execute_result"
        }
      ],
      "source": [
        "c=np.random.randint(10,90,(5,5))\n",
        "c"
      ]
    },
    {
      "cell_type": "code",
      "execution_count": null,
      "metadata": {
        "colab": {
          "base_uri": "https://localhost:8080/"
        },
        "id": "s0tBqKrN_gc-",
        "outputId": "09ba76a9-af56-4224-ca3b-dec4b7be4970"
      },
      "outputs": [
        {
          "data": {
            "text/plain": [
              "(5, 5)"
            ]
          },
          "execution_count": 34,
          "metadata": {},
          "output_type": "execute_result"
        }
      ],
      "source": [
        "#  array dimension\n",
        "c.shape"
      ]
    },
    {
      "cell_type": "code",
      "execution_count": null,
      "metadata": {
        "colab": {
          "base_uri": "https://localhost:8080/"
        },
        "id": "dnqA2lOM_ub7",
        "outputId": "ed906670-1eff-4a4c-de72-dc701e35c4c0"
      },
      "outputs": [
        {
          "name": "stdout",
          "output_type": "stream",
          "text": [
            "2\n"
          ]
        }
      ],
      "source": [
        "# number of dimensions\n",
        "print(c.ndim)"
      ]
    },
    {
      "cell_type": "code",
      "execution_count": null,
      "metadata": {
        "colab": {
          "base_uri": "https://localhost:8080/"
        },
        "id": "VuDX5zrt_1Bs",
        "outputId": "8ede3888-a2aa-4aa1-b9fd-e2a5033f733d"
      },
      "outputs": [
        {
          "name": "stdout",
          "output_type": "stream",
          "text": [
            "25\n"
          ]
        }
      ],
      "source": [
        "#  checking the number of elements in an array\n",
        "print(c.size)"
      ]
    },
    {
      "cell_type": "code",
      "execution_count": null,
      "metadata": {
        "colab": {
          "base_uri": "https://localhost:8080/"
        },
        "id": "Ksa3ZMdg_8bM",
        "outputId": "51c542fa-221c-49ad-9ce0-94ae5ddd24c4"
      },
      "outputs": [
        {
          "name": "stdout",
          "output_type": "stream",
          "text": [
            "int64\n"
          ]
        }
      ],
      "source": [
        "# cheking the data type of the values in the array\n",
        "print(c.dtype)"
      ]
    },
    {
      "cell_type": "markdown",
      "metadata": {
        "id": "-WR_ogZdAQyl"
      },
      "source": [
        "Mathematical operations on np array"
      ]
    },
    {
      "cell_type": "code",
      "execution_count": null,
      "metadata": {
        "colab": {
          "base_uri": "https://localhost:8080/"
        },
        "id": "4V_vva4OAHXY",
        "outputId": "b2f87dbe-6d91-4641-ed3b-922995356f78"
      },
      "outputs": [
        {
          "name": "stdout",
          "output_type": "stream",
          "text": [
            "[1, 2, 3, 4, 5, 6, 7, 8, 9, 10]\n"
          ]
        }
      ],
      "source": [
        "list1=[1,2,3,4,5]\n",
        "list2=[6,7,8,9,10]\n",
        "\n",
        "print(list1+list2) #concatenate or joins two list"
      ]
    },
    {
      "cell_type": "code",
      "execution_count": null,
      "metadata": {
        "id": "yuHMHv8pAZ-V"
      },
      "outputs": [],
      "source": [
        "a=np.random.randint(0,10,(3,3))\n",
        "b=np.random.randint(10,20,(3,3))\n"
      ]
    },
    {
      "cell_type": "code",
      "execution_count": null,
      "metadata": {
        "colab": {
          "base_uri": "https://localhost:8080/"
        },
        "id": "FF2z_yTcArf5",
        "outputId": "3832f01e-fb4c-49b1-caff-997b82ff1543"
      },
      "outputs": [
        {
          "name": "stdout",
          "output_type": "stream",
          "text": [
            "[[4 4 0]\n",
            " [6 7 9]\n",
            " [4 8 6]]\n",
            "[[13 18 10]\n",
            " [10 19 19]\n",
            " [10 19 18]]\n"
          ]
        }
      ],
      "source": [
        "print(a)\n",
        "print(b)"
      ]
    },
    {
      "cell_type": "code",
      "execution_count": null,
      "metadata": {
        "colab": {
          "base_uri": "https://localhost:8080/"
        },
        "id": "r5KOdoMXAtCD",
        "outputId": "085824b7-8984-44e5-f751-ebbbb903bbdb"
      },
      "outputs": [
        {
          "name": "stdout",
          "output_type": "stream",
          "text": [
            "[[17 22 10]\n",
            " [16 26 28]\n",
            " [14 27 24]]\n",
            "[[ -9 -14 -10]\n",
            " [ -4 -12 -10]\n",
            " [ -6 -11 -12]]\n",
            "[[ 52  72   0]\n",
            " [ 60 133 171]\n",
            " [ 40 152 108]]\n",
            "[[0.30769231 0.22222222 0.        ]\n",
            " [0.6        0.36842105 0.47368421]\n",
            " [0.4        0.42105263 0.33333333]]\n"
          ]
        }
      ],
      "source": [
        "print(a+b)\n",
        "print(a-b)\n",
        "print(a*b)\n",
        "print(a/b)"
      ]
    },
    {
      "cell_type": "code",
      "execution_count": null,
      "metadata": {
        "colab": {
          "base_uri": "https://localhost:8080/"
        },
        "id": "ZZ2fSzEbAvez",
        "outputId": "45f36f74-0b76-4bf7-c691-266f057b1442"
      },
      "outputs": [
        {
          "name": "stdout",
          "output_type": "stream",
          "text": [
            "[[17 22 10]\n",
            " [16 26 28]\n",
            " [14 27 24]]\n",
            "[[ -9 -14 -10]\n",
            " [ -4 -12 -10]\n",
            " [ -6 -11 -12]]\n",
            "[[ 52  72   0]\n",
            " [ 60 133 171]\n",
            " [ 40 152 108]]\n",
            "[[0.30769231 0.22222222 0.        ]\n",
            " [0.6        0.36842105 0.47368421]\n",
            " [0.4        0.42105263 0.33333333]]\n"
          ]
        }
      ],
      "source": [
        "print(np.add(a,b))\n",
        "print(np.subtract(a,b))\n",
        "print(np.multiply(a,b))\n",
        "print(np.divide(a,b))"
      ]
    },
    {
      "cell_type": "markdown",
      "metadata": {
        "id": "rOntQPYuBUw9"
      },
      "source": [
        "Array manipulation"
      ]
    },
    {
      "cell_type": "code",
      "execution_count": null,
      "metadata": {
        "colab": {
          "base_uri": "https://localhost:8080/"
        },
        "id": "Z4nF75AfA-zz",
        "outputId": "ec3355a3-67f3-4bfd-8c45-595c26b5bde5"
      },
      "outputs": [
        {
          "name": "stdout",
          "output_type": "stream",
          "text": [
            "[[1 4 0]\n",
            " [8 0 5]]\n",
            "(2, 3)\n"
          ]
        }
      ],
      "source": [
        "array=np.random.randint(0,10,(2,3))\n",
        "print(array)\n",
        "print(array.shape)"
      ]
    },
    {
      "cell_type": "code",
      "execution_count": null,
      "metadata": {
        "colab": {
          "base_uri": "https://localhost:8080/"
        },
        "id": "p3zejDI_Bf9w",
        "outputId": "6301613b-6b62-4671-ffac-36521fb5a94a"
      },
      "outputs": [
        {
          "name": "stdout",
          "output_type": "stream",
          "text": [
            "[[1 8]\n",
            " [4 0]\n",
            " [0 5]]\n",
            "(3, 2)\n"
          ]
        }
      ],
      "source": [
        "# transpose of the matrix\n",
        "trans=np.transpose(array)\n",
        "print(trans)\n",
        "print(trans.shape)"
      ]
    },
    {
      "cell_type": "code",
      "execution_count": null,
      "metadata": {
        "colab": {
          "base_uri": "https://localhost:8080/"
        },
        "id": "X_8e9aLHBzO3",
        "outputId": "93ea2592-1b7f-471c-b2ee-63ee73bb4e30"
      },
      "outputs": [
        {
          "name": "stdout",
          "output_type": "stream",
          "text": [
            "[[1 8]\n",
            " [4 0]\n",
            " [0 5]]\n",
            "(3, 2)\n"
          ]
        }
      ],
      "source": [
        "trans2=array.T\n",
        "print(trans2)\n",
        "print(trans2.shape)"
      ]
    }
  ],
  "metadata": {
    "colab": {
      "authorship_tag": "ABX9TyPx1SrBHFa67575D+MgAFLW",
      "include_colab_link": true,
      "provenance": [],
      "toc_visible": true
    },
    "kernelspec": {
      "display_name": "Python 3",
      "name": "python3"
    },
    "language_info": {
      "codemirror_mode": {
        "name": "ipython",
        "version": 3
      },
      "file_extension": ".py",
      "mimetype": "text/x-python",
      "name": "python",
      "nbconvert_exporter": "python",
      "pygments_lexer": "ipython3",
      "version": "3.10.9"
    }
  },
  "nbformat": 4,
  "nbformat_minor": 0
}

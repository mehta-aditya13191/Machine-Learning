{
  "nbformat": 4,
  "nbformat_minor": 0,
  "metadata": {
    "colab": {
      "provenance": []
    },
    "kernelspec": {
      "name": "python3",
      "display_name": "Python 3"
    },
    "language_info": {
      "name": "python"
    }
  },
  "cells": [
    {
      "cell_type": "markdown",
      "source": [
        "**Feature** **Extraction**\n",
        "\n",
        " The mapping from textual data to real valued vectors is called feature extraction.\n",
        "\n",
        "\n",
        " **Bag of Words(BOW):** list of unique words in the text corpus\n",
        "\n",
        " **Term Frequency-Inverse Document Frequency(TF-IDF):** To count the number of times each word appears in a document.\n",
        "\n",
        "**Term Frequency(TF)=**  (Number of times term t appears in a document)/(Number of terms in the document)\n",
        "\n",
        "**Inverse Document Frequency(IDF)=**(log(N/n)), Where ,N is the number of Words and n is the number of documents a term t has appeared in.\n",
        "\n",
        "    The IDF value of a rare word is high,whereas the IDF of a frequent word is low.\n",
        "\n",
        "    TF-IDF value of a term = TF * IDF"
      ],
      "metadata": {
        "id": "V-lbFXT0fTT8"
      }
    },
    {
      "cell_type": "markdown",
      "source": [
        "About the DataSet:\n",
        "\n",
        " 1.id:Unique id for news article\n",
        "\n",
        " 2.title:the title of a news article\n",
        "\n",
        " 3.author:author of news article\n",
        "\n",
        " 4.text:the text of the article;could be incomplete\n",
        "\n",
        " 5.label:a label that marks whether the news article is real or fake\n",
        "    \n",
        "     1:Fake news\n",
        "     0:real news"
      ],
      "metadata": {
        "id": "cKMb3oMHoa1N"
      }
    },
    {
      "cell_type": "markdown",
      "source": [
        "Importing the Dependencies\n"
      ],
      "metadata": {
        "id": "VvrxlgL6pMIR"
      }
    },
    {
      "cell_type": "code",
      "execution_count": null,
      "metadata": {
        "id": "ONb8PpFleupr"
      },
      "outputs": [],
      "source": [
        "import numpy as np\n",
        "import pandas as pd\n",
        "import re\n",
        "from nltk.stem.porter import PorterStemmer\n",
        "from sklearn.feature_extraction.text import TfidfVectorizer"
      ]
    },
    {
      "cell_type": "code",
      "source": [],
      "metadata": {
        "id": "x3NLxdU7pdT-"
      },
      "execution_count": null,
      "outputs": []
    }
  ]
}